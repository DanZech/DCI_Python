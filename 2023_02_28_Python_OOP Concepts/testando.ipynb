{
 "cells": [
  {
   "attachments": {},
   "cell_type": "markdown",
   "metadata": {},
   "source": [
    "The Animal class represents an ordinary animal. It contains the number_of_legs and the number_of_eyes of an animal, as well as some of its behavior through the methods breathe() and walk(). It also contains the method summary(), which just summarizes the information of the current animal instance. No extra action should be taken here."
   ]
  },
  {
   "cell_type": "code",
   "execution_count": 46,
   "metadata": {},
   "outputs": [],
   "source": [
    "from num2words import num2words"
   ]
  },
  {
   "cell_type": "code",
   "execution_count": 60,
   "metadata": {},
   "outputs": [],
   "source": [
    "class Animal:\n",
    "    def __init__(self, number_of_legs, number_of_eyes):\n",
    "        self.number_of_legs = number_of_legs\n",
    "        self.number_of_eyes = number_of_eyes\n",
    "\n",
    "    def breathe(self):\n",
    "        print(\"Inhale and exhale.\")\n",
    "\n",
    "    def walk(self):\n",
    "        print(f\"{type(self).__name__} walks using its legs.\")\n",
    "\n",
    "    def summary(self):\n",
    "        legs = num2words(self.number_of_legs)\n",
    "        eyes = num2words(self.number_of_eyes)\n",
    "        print(\n",
    "            f'This animal has {self.number_of_legs} ({legs}) legs and {self.number_of_eyes} ({eyes}) eyes.'\n",
    "            )"
   ]
  },
  {
   "cell_type": "code",
   "execution_count": 61,
   "metadata": {},
   "outputs": [
    {
     "name": "stdout",
     "output_type": "stream",
     "text": [
      "Inhale and exhale.\n",
      "Animal walks using its legs.\n",
      "This animal has 4 (four) legs and 2 (two) eyes.\n"
     ]
    }
   ],
   "source": [
    "animal = Animal(4, 2)\n",
    "animal.breathe()\n",
    "animal.walk()\n",
    "animal.summary()\n"
   ]
  },
  {
   "attachments": {},
   "cell_type": "markdown",
   "metadata": {},
   "source": [
    "## DOG.py\n",
    "Since every dog has 4 legs and two eyes, the constructor method should make a call to the Animal constructor, passing the correspondent values to the constructor.\n",
    "\n",
    "You should override the breathe() method. It should call the breathe() method of the Animal class and then print \"Dogs love to breathe with their mouths open.\".\n",
    "\n",
    "You should override the walk() method. It should call the walk() method of the Animal class and then print \"Dogs love to run.\"."
   ]
  },
  {
   "cell_type": "code",
   "execution_count": 55,
   "metadata": {},
   "outputs": [],
   "source": [
    "class Dog(Animal):\n",
    "    def __init__(self, number_of_legs, number_of_eyes, can_bark, can_bite):\n",
    "        super().__init__(number_of_legs, number_of_eyes)\n",
    "        self.can_bark = can_bark\n",
    "        self.can_bite = can_bite\n",
    "\n",
    "    def bark(self):\n",
    "        print(\"Au Au\")\n",
    "\n",
    "    def bite(self):\n",
    "        print(\"Dog bite!!! Snack, snack!!\")\n",
    "\n",
    "    def breathe(self):\n",
    "        print(\"Dogs love to breathe with their mouths open.\")\n",
    "\n",
    "    def walk(self):\n",
    "        print(\"Dogs love to run.\")"
   ]
  },
  {
   "cell_type": "code",
   "execution_count": 56,
   "metadata": {},
   "outputs": [
    {
     "name": "stdout",
     "output_type": "stream",
     "text": [
      "Au Au\n",
      "Dog bite!!! Snack, snack!!\n",
      "Dogs love to breathe with their mouths open.\n",
      "Dogs love to run.\n",
      "This animal has 4 (four) legs and 2 (two) eyes.\n"
     ]
    }
   ],
   "source": [
    "dog = Dog(4, 2, True, True)\n",
    "dog.bark()\n",
    "dog.bite()\n",
    "dog.breathe()\n",
    "dog.walk()\n",
    "dog.summary()"
   ]
  },
  {
   "attachments": {},
   "cell_type": "markdown",
   "metadata": {},
   "source": [
    "You should override the walk() method. It should call the walk() method of the Dog class and then print \"German Shepard`s show their beautiful fur while running.\"."
   ]
  },
  {
   "cell_type": "code",
   "execution_count": 57,
   "metadata": {},
   "outputs": [],
   "source": [
    "class GermanShepard(Dog):\n",
    "    def __init__(self, number_of_legs, number_of_eyes, can_bark, can_bite):\n",
    "        super().__init__(number_of_legs, number_of_eyes, can_bark, can_bite)\n",
    "\n",
    "    def bark(self):\n",
    "        print(\"Uff Uff\")\n",
    "    def walk(self):\n",
    "        print(\"German Shepard`s show their beautiful fur while running.\")"
   ]
  },
  {
   "cell_type": "code",
   "execution_count": 58,
   "metadata": {},
   "outputs": [
    {
     "name": "stdout",
     "output_type": "stream",
     "text": [
      "Uff Uff\n",
      "Dog bite!!! Snack, snack!!\n",
      "Dogs love to breathe with their mouths open.\n",
      "German Shepard`s show their beautiful fur while running.\n",
      "This animal has 4 (four) legs and 2 (two) eyes.\n"
     ]
    }
   ],
   "source": [
    "dog = Dog(4,2, True, True)\n",
    "#dog.bark()\n",
    "#dog.bite()\n",
    "\n",
    "pastor = GermanShepard(4,2, True, True)\n",
    "pastor.bark()\n",
    "pastor.bite()\n",
    "pastor.breathe()\n",
    "pastor.walk()\n",
    "pastor.summary()"
   ]
  },
  {
   "cell_type": "markdown",
   "metadata": {},
   "source": []
  },
  {
   "cell_type": "code",
   "execution_count": 66,
   "metadata": {},
   "outputs": [
    {
     "name": "stdout",
     "output_type": "stream",
     "text": [
      "This animal has 2 (two) legs and 2 (two) eyes.\n",
      "\n",
      "Inhale and exhale.\n",
      "\n",
      "Animal walks using its legs.\n",
      "=====\n",
      "This animal has 4 (four) legs and 2 (two) eyes.\n",
      "\n",
      "Dogs love to breathe with their mouths open.\n",
      "\n",
      "Dogs love to run.\n",
      "=====\n",
      "This animal has 4 (four) legs and 2 (two) eyes.\n",
      "\n",
      "Dogs love to breathe with their mouths open.\n",
      "\n",
      "German Shepard`s show their beautiful fur while running.\n",
      "=====\n",
      "This animal has 2 (two) legs and 2 (two) eyes.\n",
      "\n",
      "Inhale and exhale.\n",
      "\n",
      "Animal walks using its legs.\n",
      "=====\n",
      "This animal has 4 (four) legs and 2 (two) eyes.\n",
      "\n",
      "Dogs love to breathe with their mouths open.\n",
      "\n",
      "Dogs love to run.\n",
      "=====\n",
      "This animal has 4 (four) legs and 2 (two) eyes.\n",
      "\n",
      "Dogs love to breathe with their mouths open.\n",
      "\n",
      "German Shepard`s show their beautiful fur while running.\n",
      "=====\n"
     ]
    }
   ],
   "source": [
    "def main():\n",
    "    # Behavior of a human.\n",
    "    human = Animal(2, 2)\n",
    "    human.summary()\n",
    "    print()\n",
    "    human.breathe()\n",
    "    print()\n",
    "    human.walk()\n",
    "    print(\"=====\")\n",
    "\n",
    "    # Behavior of a dog\n",
    "    dog = Dog(4, 2, True, True)\n",
    "    dog.summary()\n",
    "    print()\n",
    "    dog.breathe()\n",
    "    print()\n",
    "    dog.walk()\n",
    "    print(\"=====\")\n",
    "\n",
    "    # Behavior of a German Shepard\n",
    "    pastor = GermanShepard(4, 2, True, True)\n",
    "    pastor.summary()\n",
    "    print()\n",
    "    pastor.breathe()\n",
    "    print()\n",
    "    pastor.walk()\n",
    "    print(\"=====\")\n",
    "\n",
    "\n",
    "if __name__ == \"__main__\":\n",
    "    main()\n",
    "\n",
    "main()"
   ]
  }
 ],
 "metadata": {
  "kernelspec": {
   "display_name": "Python 3",
   "language": "python",
   "name": "python3"
  },
  "language_info": {
   "codemirror_mode": {
    "name": "ipython",
    "version": 3
   },
   "file_extension": ".py",
   "mimetype": "text/x-python",
   "name": "python",
   "nbconvert_exporter": "python",
   "pygments_lexer": "ipython3",
   "version": "3.10.6"
  },
  "orig_nbformat": 4
 },
 "nbformat": 4,
 "nbformat_minor": 2
}
