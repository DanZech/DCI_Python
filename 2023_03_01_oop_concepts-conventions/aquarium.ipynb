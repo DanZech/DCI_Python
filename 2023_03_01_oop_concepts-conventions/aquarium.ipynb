{
 "cells": [
  {
   "cell_type": "markdown",
   "metadata": {},
   "source": []
  },
  {
   "cell_type": "code",
   "execution_count": null,
   "metadata": {},
   "outputs": [],
   "source": [
    "class aquarium_app:\n",
    "    def __init__(this, FISHCOUNT, EyeColor, skinColor):\n",
    "        this.SkinColor = skinColor\n",
    "        this.PRIVATE_SWIM_COUNT = 0\n",
    "        this.EYECOLOR = EyeColor\n",
    "        this.protected_DEAD_FISH = 0\n",
    "        this.fishCount = FISHCOUNT\n",
    "\n",
    "    def _start(those):\n",
    "        if those.fishCount == 0:\n",
    "            print(\"There are no alive fish left.\")\n",
    "            return\n",
    "        those.PRIVATE_SWIM_COUNT += 1\n",
    "\n",
    "        print(\n",
    "            str(those.fishCount)\n",
    "            + \" fish are swimming. Their eyes are \"\n",
    "            + those.EYECOLOR\n",
    "            + \" and their skin is \"\n",
    "            + those.SkinColor\n",
    "            + \".\"\n",
    "        )\n",
    "        print(\n",
    "            \"There are \"\n",
    "            + str(those.protected_DEAD_FISH)\n",
    "            + \" dead fish with them in the aquarium.\"\n",
    "        )\n",
    "        print(\n",
    "            \"The fish have now been swimming \"\n",
    "            + str(those.PRIVATE_SWIM_COUNT)\n",
    "            + \" times.\"\n",
    "        )\n",
    "\n",
    "    def __die_fish(__that, _number):\n",
    "        if __that.fishCount == 0:\n",
    "            print(\"All fish are dead.\")\n",
    "            print(\"GAME OVER\")\n",
    "            print(\"=====\")\n",
    "            return\n",
    "        __that.fishCount -= _number\n",
    "        __that.protected_DEAD_FISH += _number\n",
    "        if _number > 1:\n",
    "            print(str(_number) + \" fish have died.\")\n",
    "        else:\n",
    "            print(\"A fish has died.\")"
   ]
  },
  {
   "cell_type": "code",
   "execution_count": null,
   "metadata": {},
   "outputs": [],
   "source": []
  }
 ],
 "metadata": {
  "language_info": {
   "name": "python"
  },
  "orig_nbformat": 4
 },
 "nbformat": 4,
 "nbformat_minor": 2
}
