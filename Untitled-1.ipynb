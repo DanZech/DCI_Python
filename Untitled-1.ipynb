{
 "cells": [
  {
   "cell_type": "code",
   "execution_count": null,
   "metadata": {},
   "outputs": [
    {
     "ename": "",
     "evalue": "",
     "output_type": "error",
     "traceback": [
      "\u001b[1;31mRunning cells with 'c:\\Users\\dci-student\\AppData\\Local\\Microsoft\\WindowsApps\\python3.10.exe' requires ipykernel package.\n",
      "\u001b[1;31mRun the following command to install 'ipykernel' into the Python environment. \n",
      "\u001b[1;31mCommand: 'c:/Users/dci-student/AppData/Local/Microsoft/WindowsApps/python3.10.exe -m pip install ipykernel -U --user --force-reinstall'"
     ]
    }
   ],
   "source": [
    "#Task_1\n",
    "a1=234\n",
    "a2=43.12\n",
    "a3=(3+2j)\n",
    "a4='Hello'\n",
    "a5=10>5\n",
    "print(a1, a2, a3, a4, a5, sep=\"\\n\")\n"
   ]
  }
 ],
 "metadata": {
  "kernelspec": {
   "display_name": "Python 3",
   "language": "python",
   "name": "python3"
  },
  "language_info": {
   "name": "python",
   "version": "3.10.9 (tags/v3.10.9:1dd9be6, Dec  6 2022, 20:01:21) [MSC v.1934 64 bit (AMD64)]"
  },
  "orig_nbformat": 4,
  "vscode": {
   "interpreter": {
    "hash": "26700979c0ec490276428a442c7d4de6da012d6645b6f43432887b5aa12c0035"
   }
  }
 },
 "nbformat": 4,
 "nbformat_minor": 2
}
